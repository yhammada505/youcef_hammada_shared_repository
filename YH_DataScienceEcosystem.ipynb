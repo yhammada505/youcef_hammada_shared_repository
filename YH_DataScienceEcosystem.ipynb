{
 "cells": [
  {
   "cell_type": "markdown",
   "id": "253e92eb",
   "metadata": {},
   "source": [
    "#  Data Science Tools and Ecosystem"
   ]
  },
  {
   "cell_type": "markdown",
   "id": "d7ed05a3",
   "metadata": {},
   "source": [
    "##  In this notebook, Data Science Tools and Ecosystem are summarized."
   ]
  },
  {
   "cell_type": "markdown",
   "id": "a286327e",
   "metadata": {},
   "source": [
    "### Some of the popular languages that Data Scientists use are:\n",
    "\n",
    "1. Python  \n",
    "2. R\n",
    "3. Scala\n",
    "4. Java\n",
    "5. Julia\n",
    "6. SQL\n",
    "\n",
    "\n"
   ]
  },
  {
   "cell_type": "markdown",
   "id": "b7b7ad48",
   "metadata": {},
   "source": [
    "### Some of the commonly used libraries used by Data Scientists include:\n",
    "#### Python:\n",
    "1. Numpy\n",
    "2. Pandas\n",
    "3. Matplotlib\n",
    "4. scikit-learn\n",
    "5. Altair\n",
    "6. Plotly\n",
    "7. ipywidgets\n",
    "8. seaborn\n",
    "\n",
    "#### R:\n",
    "1. ggplot2\n",
    "2. dplyr\n",
    "3. caret\n",
    "4. stringr"
   ]
  },
  {
   "cell_type": "markdown",
   "id": "9932b941",
   "metadata": {},
   "source": [
    "### Development environment open source tools used in Data Science\n",
    "\n",
    "|  Data Management Tools| Data Integration and Transformation Tools | Data Visualization Tools | Model Deployment Tools |\n",
    "| -----------------|-------------------------------------|--------------------|-----------------|\n",
    "| MySQL            |  Apache Airflow  |   Pixie Dust   |  Apache PredictionIO |\n",
    "| -----------------| -----------------| ---------------| ---------------------|\n",
    "| MongoDBL            |  Apache Kafka  |   Kibana   |  Redhat Openshift |\n",
    "| -----------------| -----------------| ---------------| ---------------------|\n",
    "| Hadoop Filesystem |  Apache Nifi  |   Apache Superset |  TensorFlow Service |\n",
    "| -----------------| -----------------| ---------------| ---------------------|"
   ]
  },
  {
   "cell_type": "markdown",
   "id": "a43977b5",
   "metadata": {},
   "source": [
    "### Below are few examples of evaluating arithmetic expressions in Python\n",
    "\n",
    "- 3 + 8\n",
    "- 10/2\n",
    "- (3*2) - 1\n"
   ]
  },
  {
   "cell_type": "code",
   "execution_count": null,
   "id": "f73f5467",
   "metadata": {},
   "outputs": [],
   "source": [
    "# This is a simple arithmetic expression to multiply then add integers\n",
    "(3*4)+5"
   ]
  },
  {
   "cell_type": "code",
   "execution_count": null,
   "id": "8f1f4258",
   "metadata": {},
   "outputs": [],
   "source": [
    "# This will convert 200 minutes to hours by dividing by 60\n",
    "hours = 200/60"
   ]
  },
  {
   "cell_type": "markdown",
   "id": "f862f78f",
   "metadata": {},
   "source": [
    "**Objectives:**\n",
    "\n",
    "**Popular Data Science Languages**\n",
    "- Python\n",
    "- R\n",
    "- Julia"
   ]
  },
  {
   "cell_type": "markdown",
   "id": "3e4fc894",
   "metadata": {},
   "source": [
    "## Author\n",
    "Youcef Hammada"
   ]
  },
  {
   "cell_type": "code",
   "execution_count": null,
   "id": "8e9e4230",
   "metadata": {},
   "outputs": [],
   "source": []
  }
 ],
 "metadata": {
  "kernelspec": {
   "display_name": "Python 3 (ipykernel)",
   "language": "python",
   "name": "python3"
  },
  "language_info": {
   "codemirror_mode": {
    "name": "ipython",
    "version": 3
   },
   "file_extension": ".py",
   "mimetype": "text/x-python",
   "name": "python",
   "nbconvert_exporter": "python",
   "pygments_lexer": "ipython3",
   "version": "3.10.11"
  }
 },
 "nbformat": 4,
 "nbformat_minor": 5
}
